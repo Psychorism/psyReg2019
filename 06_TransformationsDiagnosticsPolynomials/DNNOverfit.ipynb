{
 "cells": [
  {
   "cell_type": "code",
   "execution_count": 26,
   "metadata": {},
   "outputs": [],
   "source": [
    "import pandas as pd\n",
    "import numpy as np\n",
    "import tensorflow as tf\n",
    "import matplotlib.pyplot as plt\n",
    "\n",
    "from sklearn import preprocessing"
   ]
  },
  {
   "cell_type": "markdown",
   "metadata": {},
   "source": [
    "## Listwise Deletion"
   ]
  },
  {
   "cell_type": "code",
   "execution_count": null,
   "metadata": {},
   "outputs": [],
   "source": [
    "\"../Dataset/Titanic/train.csv\""
   ]
  },
  {
   "cell_type": "markdown",
   "metadata": {},
   "source": [
    "## Neural Network Model"
   ]
  },
  {
   "cell_type": "code",
   "execution_count": 164,
   "metadata": {},
   "outputs": [],
   "source": [
    "def LinearFunction(x): return(x)\n",
    "\n",
    "def scaler(Series) :\n",
    "    meanVal = np.mean(Series)\n",
    "    STDVal = np.std(Series)\n",
    "    return((Series-meanVal)/STDVal)\n",
    "\n",
    "def ListWiseDeletion(ref):\n",
    "    TitanicTrain = pd.read_csv(ref)\n",
    "    DeletingIdx = pd.isna(TitanicTrain.Age)^1\n",
    "\n",
    "    Age = TitanicTrain.Age[DeletingIdx]\n",
    "    Fare = TitanicTrain.Fare[DeletingIdx]\n",
    "    Survived = TitanicTrain.Survived[DeletingIdx]\n",
    "    \n",
    "    ScaledDF = pd.DataFrame({'Age' : scaler(Age),\n",
    "                             'Fare' : scaler(Fare)})\n",
    "    \n",
    "    onehotEncoder = preprocessing.OneHotEncoder(sparse=False)\n",
    "    onehotSurvived = onehotEncoder.fit_transform(np.array(Survived).reshape((-1,1)))\n",
    "    \n",
    "    return({'X':ScaledDF, 'Y':onehotSurvived})\n",
    "\n",
    "def NeuralNet3Layers(activation='relu', epochs = 10000) : \n",
    "    \n",
    "    actFun = {'relu':tf.nn.relu, 'sigmoid':tf.nn.sigmoid, 'linear':LinearFunction}[activation]\n",
    "    \n",
    "    X = tf.placeholder(tf.float32, [None, 2])\n",
    "    Y = tf.placeholder(tf.float32, [None, 2])\n",
    "\n",
    "    W1 = tf.Variable( tf.random_normal([2,128]) )\n",
    "    b1 = tf.Variable( tf.random_normal([128]))\n",
    "    L1 = actFun( tf.matmul(X, W1) + b1 )\n",
    "\n",
    "    W2 = tf.Variable( tf.random_normal([128,64]) )\n",
    "    b2 = tf.Variable( tf.random_normal([64]))\n",
    "    L2 = actFun( tf.matmul(L1, W2) + b2 )\n",
    "\n",
    "    W3 = tf.Variable( tf.random_normal([64,2]) )\n",
    "    Model = tf.matmul(L2, W3)\n",
    "\n",
    "    Cost = tf.reduce_mean(tf.nn.softmax_cross_entropy_with_logits_v2(logits=Model, labels=Y))\n",
    "    Adam = tf.train.AdamOptimizer(0.01)\n",
    "\n",
    "    Trainer = Adam.minimize(Cost)\n",
    "    \n",
    "    init = tf.global_variables_initializer()\n",
    "    sess = tf.Session()\n",
    "    sess.run(init)\n",
    "\n",
    "    CostTrace = []\n",
    "    for epoch in range(epochs):\n",
    "\n",
    "        _, cost_val = sess.run([ Trainer, Cost ], feed_dict={X: ScaledDF,\n",
    "                                                             Y: onehotSurvived} )\n",
    "\n",
    "        CostTrace.append(cost_val)\n",
    "        if epochs % 1000 == 0 :\n",
    "            print(\"1000 additional epochs completed, Cost:{}\".format(cost_val))\n",
    "        \n",
    "    IsCorrect = tf.equal(tf.argmax(Model, 1), tf.argmax(Y, 1))\n",
    "    Accuracy = tf.reduce_mean(tf.cast(IsCorrect, tf.float32))\n",
    "    print (\"Learning Completed, Accuracy:{}\".format(sess.run(Accuracy, feed_dict = {X: ScaledDF, Y: onehotSurvived }) ) )\n",
    "    return(CostTrace)"
   ]
  },
  {
   "cell_type": "code",
   "execution_count": 166,
   "metadata": {},
   "outputs": [
    {
     "data": {
      "text/plain": [
       "0.78571427"
      ]
     },
     "execution_count": 166,
     "metadata": {},
     "output_type": "execute_result"
    }
   ],
   "source": []
  },
  {
   "cell_type": "code",
   "execution_count": 167,
   "metadata": {},
   "outputs": [],
   "source": [
    "plt.plot(CostTrace, 'r')\n",
    "plt.xlabel('Epoch')\n",
    "plt.ylabel('CrossEntropy')\n",
    "plt.savefig('Classification.png')\n",
    "\n",
    "plt.plot(t, a, 'r') # plotting t, a separately \n",
    "plt.plot(t, b, 'b') # plotting t, b separately \n",
    "plt.plot(t, c, 'g') # plotting t, c separately \n",
    "plt.show()"
   ]
  },
  {
   "cell_type": "code",
   "execution_count": 168,
   "metadata": {},
   "outputs": [],
   "source": [
    "W1Trained = sess.run(W1)\n",
    "W2Trained = sess.run(W2)\n",
    "W3Trained = sess.run(W3)\n",
    "\n",
    "b1Trained = sess.run(b1)\n",
    "b2Trained = sess.run(b2)"
   ]
  },
  {
   "cell_type": "code",
   "execution_count": 175,
   "metadata": {},
   "outputs": [
    {
     "data": {
      "image/png": "[encoded data removed]",
      "text/plain": [
       "<matplotlib.figure.Figure at 0x1a28eb5978>"
      ]
     },
     "metadata": {},
     "output_type": "display_data"
    }
   ],
   "source": [
    "plt.imshow(W2Trained, cmap=plt.cm.jet, interpolation='nearest')\n",
    "plt.show()"
   ]
  },
  {
   "cell_type": "code",
   "execution_count": null,
   "metadata": {},
   "outputs": [],
   "source": [
    "AgeMean = np.mean(Age)\n",
    "AgeSTD  = np.std(Age)\n",
    "FareMean = np.mean(Fare)\n",
    "FareSTD = np.std(Fare)"
   ]
  },
  {
   "cell_type": "code",
   "execution_count": 177,
   "metadata": {},
   "outputs": [],
   "source": [
    "x = np.linspace(start=0, stop=80, num=200)\n",
    "y = np.linspace(start=0, stop=512, num=200)\n",
    "xx, yy = np.meshgrid(x, y)\n",
    "\n",
    "Grid = pd.DataFrame({'x' : (xx.flatten()-AgeMean)/AgeSTD,\n",
    "                     'y' : (yy.flatten()-FareMean)/FareSTD})"
   ]
  },
  {
   "cell_type": "code",
   "execution_count": 178,
   "metadata": {},
   "outputs": [],
   "source": [
    "Res = sess.run(tf.nn.softmax(Model), feed_dict={X: Grid})"
   ]
  },
  {
   "cell_type": "code",
   "execution_count": 187,
   "metadata": {},
   "outputs": [],
   "source": [
    "np.savetxt(\"ModelPrediction.csv\", np.reshape(Res[:,1], (200,200)), delimiter=\",\")"
   ]
  },
  {
   "cell_type": "markdown",
   "metadata": {},
   "source": [
    "## Linear Regression Model"
   ]
  },
  {
   "cell_type": "markdown",
   "metadata": {},
   "source": [
    "## Logistic Regression Model"
   ]
  },
  {
   "cell_type": "code",
   "execution_count": null,
   "metadata": {},
   "outputs": [],
   "source": []
  },
  {
   "cell_type": "code",
   "execution_count": null,
   "metadata": {},
   "outputs": [],
   "source": [
    "0.78571427\n"
   ]
  }
 ],
 "metadata": {
  "kernelspec": {
   "display_name": "Python [conda root]",
   "language": "python",
   "name": "conda-root-py"
  },
  "language_info": {
   "codemirror_mode": {
    "name": "ipython",
    "version": 3
   },
   "file_extension": ".py",
   "mimetype": "text/x-python",
   "name": "python",
   "nbconvert_exporter": "python",
   "pygments_lexer": "ipython3",
   "version": "3.6.8"
  }
 },
 "nbformat": 4,
 "nbformat_minor": 2
}
